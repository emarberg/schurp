{
 "cells": [
  {
   "cell_type": "code",
   "execution_count": 31,
   "id": "72869d3f",
   "metadata": {},
   "outputs": [],
   "source": [
    "import matplotlib.pyplot as plt\n",
    "import numpy as np\n",
    "%matplotlib inline"
   ]
  },
  {
   "cell_type": "code",
   "execution_count": 321,
   "id": "38c0d2e7",
   "metadata": {},
   "outputs": [],
   "source": [
    "import subprocess\n",
    "\n",
    "BASE_DIRECTORY = '/Users/emarberg/examples/test/'\n",
    "\n",
    "def draw_graph(vertices, edges, neato=True):\n",
    "    def prt(w):\n",
    "        return ''.join(map(str, w[:-1])) + ':' + str(w[-1])\n",
    "    s = ['digraph G {']\n",
    "    s += ['    overlap=false;']\n",
    "    s += ['    splines=true;']\n",
    "    s += ['    node [shape=box];']\n",
    "    for x in vertices:\n",
    "       s += ['    \"%s\" [fillcolor=white];' % prt(x)]\n",
    "    for x, y, label in edges:\n",
    "        if x in vertices and y in vertices:\n",
    "            s += ['    \"%s\" -> \"%s\" [color=\"%s\"];' % (prt(x), prt(y), 'red' if label else 'black')]\n",
    "    s += ['}']\n",
    "    s = '\\n'.join(s)\n",
    "    #\n",
    "    filename = 'tmp' + str(len(vertices))\n",
    "    dot_filename = BASE_DIRECTORY + 'dot/' + '%s.dot' % filename\n",
    "    png_filename = BASE_DIRECTORY + 'png/' + '%s.png' % filename\n",
    "    with open(dot_filename, 'w') as f:\n",
    "        f.write(s)\n",
    "    subprocess.run([\"neato\" if neato else \"dot\", \"-Tpng\", dot_filename, \"-o\", png_filename])\n",
    "    subprocess.run([\"open\", png_filename])"
   ]
  },
  {
   "cell_type": "code",
   "execution_count": 322,
   "id": "22d4e36c",
   "metadata": {},
   "outputs": [],
   "source": [
    "from permutations import Permutation\n",
    "from tests.test_ogroth import read_cplusplus_ogroth\n",
    "\n",
    "def read(*mu):\n",
    "    n = max(mu, default=0) + 2\n",
    "    ans = read_cplusplus_ogroth(mu)\n",
    "    bns = {}\n",
    "    for w, c in ans:\n",
    "        w = tuple(Permutation(*w).inverse().oneline)\n",
    "        while len(w) < n:\n",
    "            w += (len(w) + 1,)\n",
    "        bns[w] = c\n",
    "    return bns"
   ]
  },
  {
   "cell_type": "code",
   "execution_count": 323,
   "id": "c8d83298",
   "metadata": {},
   "outputs": [],
   "source": [
    "def chinese_span(w, n):\n",
    "    if w[-1] == n + 1:\n",
    "        for i in range(n // 2, n):\n",
    "            if max((0,) + w[i:n]) <= n // 2:\n",
    "                yield (w, w[:i] + (n + 1,) + w[i:-1], 1)\n",
    "        for i in range(len(w) - 2):\n",
    "            c, a, b = w[i: i + 3]\n",
    "            if a < b < c and c != n + 1:\n",
    "                yield (w, w[:i] + (b, c, a) + w[i + 3:], 0)\n",
    "                yield (w, w[:i] + (c, b, a) + w[i + 3:], 0)\n",
    "\n",
    "            #b, c, a = w[i: i + 3]\n",
    "            #if a < b < c and c != n + 1:\n",
    "            #    yield (w, w[:i] + (c, b, a) + w[i + 3:], 0)\n",
    "            \n",
    "\n",
    "def chinese_class(w):\n",
    "    ans = set()\n",
    "    add = {w}\n",
    "    while add:\n",
    "        ans |= add\n",
    "        add = {v for (w, v) in chinese_span(w, -1) if v not in ans}\n",
    "    return ans\n",
    "\n",
    "\n",
    "def test_chinese_class(v):\n",
    "    for w in v:\n",
    "        for w, x in chinese_span(w):\n",
    "            assert x in v\n",
    "\n"
   ]
  },
  {
   "cell_type": "code",
   "execution_count": 767,
   "id": "ca83f824",
   "metadata": {},
   "outputs": [],
   "source": [
    "def tr(x, a):\n",
    "    return x + (a[x],) #Permutation(*x).code() + (a[x],)\n",
    "\n",
    "def appl(t, a):\n",
    "    x, y, i = t\n",
    "    return (tr(x, a), tr(y, a), x[i] == len(x) or x[i+1] == len(x))"
   ]
  },
  {
   "cell_type": "code",
   "execution_count": 794,
   "id": "a9f9685f",
   "metadata": {},
   "outputs": [],
   "source": [
    "mu = (5,3,1)\n",
    "u = read(*mu)\n",
    "u = {x: u[x] for x in u}"
   ]
  },
  {
   "cell_type": "code",
   "execution_count": 795,
   "id": "d07a9485",
   "metadata": {},
   "outputs": [
    {
     "data": {
      "text/plain": [
       "{1, 2, 3, 4, 6, 8, 9, 10, 12, 18, 20}"
      ]
     },
     "execution_count": 795,
     "metadata": {},
     "output_type": "execute_result"
    }
   ],
   "source": [
    "set(u.values())"
   ]
  },
  {
   "cell_type": "code",
   "execution_count": 796,
   "id": "9e017e44",
   "metadata": {},
   "outputs": [],
   "source": [
    "e = {\n",
    "    (x, y, i)\n",
    "    for x in u for y in u for i in range(len(x) - 1)\n",
    "    if x < y and x[:i] + (x[i+1],x[i]) + x[i+2:] == y\n",
    "}"
   ]
  },
  {
   "cell_type": "code",
   "execution_count": 800,
   "id": "7440fb49",
   "metadata": {},
   "outputs": [],
   "source": [
    "m = (mu[0] + 1) // 2\n",
    "\n",
    "for x, y, i in e:\n",
    "    assert m < x[i + 1] <= mu[0] + 1 or x[i] <= m\n",
    "\n",
    "for x in u:\n",
    "    for i in range(len(x) - 1):\n",
    "        if x[i] >= x[i + 1]:\n",
    "            continue\n",
    "        y = x[:i] + (x[i + 1],x[i]) + x[i+2:]\n",
    "        if m < x[i + 1] <= mu[0] + 1 or x[i] <= m:\n",
    "            assert (x, y, i) in e\n"
   ]
  },
  {
   "cell_type": "code",
   "execution_count": 801,
   "id": "34bf4462",
   "metadata": {},
   "outputs": [],
   "source": [
    "draw_graph({tr(x, u) for x in u}, {appl(t, u) for t in e}, neato=False)"
   ]
  },
  {
   "cell_type": "code",
   "execution_count": 748,
   "id": "09c101ab",
   "metadata": {},
   "outputs": [],
   "source": []
  },
  {
   "cell_type": "code",
   "execution_count": 512,
   "id": "5e51ba0c",
   "metadata": {},
   "outputs": [
    {
     "data": {
      "text/plain": [
       "{345612,\n",
       " 345621,\n",
       " 354612,\n",
       " 354621,\n",
       " 435612,\n",
       " 435621,\n",
       " 453612,\n",
       " 453621,\n",
       " 534612,\n",
       " 534621,\n",
       " 543612,\n",
       " 543621}"
      ]
     },
     "execution_count": 512,
     "metadata": {},
     "output_type": "execute_result"
    }
   ],
   "source": [
    "{x for x in u if u[x] == 1}"
   ]
  },
  {
   "cell_type": "code",
   "execution_count": 513,
   "id": "8b68471a",
   "metadata": {},
   "outputs": [
    {
     "data": {
      "text/plain": [
       "{342561,\n",
       " 345162,\n",
       " 351462,\n",
       " 352461,\n",
       " 423561,\n",
       " 425361,\n",
       " 435162,\n",
       " 451362,\n",
       " 513462,\n",
       " 514362,\n",
       " 523461,\n",
       " 524361}"
      ]
     },
     "execution_count": 513,
     "metadata": {},
     "output_type": "execute_result"
    }
   ],
   "source": [
    "{x for x in u if u[x] == 2}"
   ]
  },
  {
   "cell_type": "code",
   "execution_count": 514,
   "id": "8026a7aa",
   "metadata": {},
   "outputs": [
    {
     "data": {
      "text/plain": [
       "{345261,\n",
       " 354162,\n",
       " 354261,\n",
       " 432561,\n",
       " 452361,\n",
       " 453162,\n",
       " 531462,\n",
       " 532461,\n",
       " 541362,\n",
       " 542361}"
      ]
     },
     "execution_count": 514,
     "metadata": {},
     "output_type": "execute_result"
    }
   ],
   "source": [
    "{x for x in u if u[x] == 3}"
   ]
  },
  {
   "cell_type": "code",
   "execution_count": 515,
   "id": "6f1d494a",
   "metadata": {},
   "outputs": [
    {
     "data": {
      "text/plain": [
       "{34251,\n",
       " 34512,\n",
       " 35142,\n",
       " 35241,\n",
       " 42351,\n",
       " 42513,\n",
       " 435261,\n",
       " 45123,\n",
       " 453261,\n",
       " 51342,\n",
       " 51423,\n",
       " 52341,\n",
       " 52413,\n",
       " 534162,\n",
       " 534261,\n",
       " 543162,\n",
       " 543261}"
      ]
     },
     "execution_count": 515,
     "metadata": {},
     "output_type": "execute_result"
    }
   ],
   "source": [
    "{x for x in u if u[x] == 4}"
   ]
  },
  {
   "cell_type": "code",
   "execution_count": 516,
   "id": "1ebd4f77",
   "metadata": {},
   "outputs": [
    {
     "data": {
      "text/plain": [
       "{34521,\n",
       " 35412,\n",
       " 35421,\n",
       " 42531,\n",
       " 43251,\n",
       " 43512,\n",
       " 45132,\n",
       " 45213,\n",
       " 51432,\n",
       " 52431,\n",
       " 53142,\n",
       " 53241,\n",
       " 54123,\n",
       " 54213}"
      ]
     },
     "execution_count": 516,
     "metadata": {},
     "output_type": "execute_result"
    }
   ],
   "source": [
    "{x for x in u if u[x] == 6}"
   ]
  },
  {
   "cell_type": "code",
   "execution_count": 517,
   "id": "3228b2f8",
   "metadata": {},
   "outputs": [
    {
     "data": {
      "text/plain": [
       "{43521, 45231, 45312, 53412, 53421, 54132, 54231}"
      ]
     },
     "execution_count": 517,
     "metadata": {},
     "output_type": "execute_result"
    }
   ],
   "source": [
    "{x for x in u if u[x] == 9}"
   ]
  },
  {
   "cell_type": "code",
   "execution_count": 518,
   "id": "5f7db604",
   "metadata": {},
   "outputs": [
    {
     "data": {
      "text/plain": [
       "{45321, 54312, 54321}"
      ]
     },
     "execution_count": 518,
     "metadata": {},
     "output_type": "execute_result"
    }
   ],
   "source": [
    "{x for x in u if u[x] == 10}"
   ]
  },
  {
   "cell_type": "code",
   "execution_count": 532,
   "id": "6f6e5284",
   "metadata": {},
   "outputs": [],
   "source": [
    "n=6; \n",
    "delta = tuple(range(n - 1, 0, -2))\n",
    "a = read(*delta)\n",
    "e = {_ for v in a for _ in chinese_span(v, n)}\n",
    "assert all(v in a and w in a for v, w, _ in e)\n",
    "e = {appl(t) for t in e}\n",
    "draw_graph({tr(x) for x in a if a[x] != max(a.values())}, e, neato=False)"
   ]
  },
  {
   "cell_type": "code",
   "execution_count": 266,
   "id": "17deefa9",
   "metadata": {},
   "outputs": [],
   "source": [
    "co[n] = set({b: a[b] for b in a if b[-1] == n + 1}.values())"
   ]
  },
  {
   "cell_type": "code",
   "execution_count": 253,
   "id": "396987bc",
   "metadata": {},
   "outputs": [
    {
     "name": "stdout",
     "output_type": "stream",
     "text": [
      "1 [1]\n",
      "2 [2]\n",
      "3 [2, 3]\n",
      "4 [4, 6]\n",
      "5 [4, 6, 9, 10]\n",
      "6 [8, 12, 18, 20]\n",
      "7 [8, 12, 18, 20, 27, 30, 33, 34, 35]\n",
      "8 [16, 24, 36, 40, 54, 60, 66, 68, 70]\n",
      "9 [16, 24, 36, 40, 54, 60, 66, 68, 70, 81, 90, 99, 100, 102, 105, 106, 112, 115, 116, 119, 120, 124, 125, 126]\n"
     ]
    }
   ],
   "source": [
    "for k in sorted(co):\n",
    "    print(k, sorted(co[k]))"
   ]
  },
  {
   "cell_type": "code",
   "execution_count": 227,
   "id": "3e9c7d39",
   "metadata": {},
   "outputs": [],
   "source": [
    "# from partitions import Partition\n",
    "# mus = sorted(Partition.subpartitions(delta, strict=True), key=sum)\n",
    "# for mu in mus:\n",
    "#    a = read(*mu)\n",
    "#    print(mu)\n",
    "#    print(a)\n",
    "#    print()\n",
    "#    test_chinese_class(a, n)"
   ]
  },
  {
   "cell_type": "code",
   "execution_count": null,
   "id": "861c814b",
   "metadata": {},
   "outputs": [],
   "source": []
  },
  {
   "cell_type": "code",
   "execution_count": 57,
   "id": "07a2cc97",
   "metadata": {},
   "outputs": [
    {
     "data": {
      "image/png": "[encoded data removed]",
      "text/plain": [
       "<Figure size 432x288 with 1 Axes>"
      ]
     },
     "metadata": {
      "needs_background": "light"
     },
     "output_type": "display_data"
    }
   ],
   "source": [
    "plt.hist(a.values(), len(set(a.values())));"
   ]
  },
  {
   "cell_type": "code",
   "execution_count": null,
   "id": "997aa8c7",
   "metadata": {},
   "outputs": [],
   "source": []
  }
 ],
 "metadata": {
  "kernelspec": {
   "display_name": "Python 3 (ipykernel)",
   "language": "python",
   "name": "python3"
  },
  "language_info": {
   "codemirror_mode": {
    "name": "ipython",
    "version": 3
   },
   "file_extension": ".py",
   "mimetype": "text/x-python",
   "name": "python",
   "nbconvert_exporter": "python",
   "pygments_lexer": "ipython3",
   "version": "3.9.0"
  }
 },
 "nbformat": 4,
 "nbformat_minor": 5
}
