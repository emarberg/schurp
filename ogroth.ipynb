{
 "cells": [
  {
   "cell_type": "code",
   "execution_count": 4,
   "id": "ef347003",
   "metadata": {},
   "outputs": [],
   "source": [
    "import matplotlib.pyplot as plt\n",
    "import numpy as np\n",
    "%matplotlib inline"
   ]
  },
  {
   "cell_type": "code",
   "execution_count": 5,
   "id": "be4b0ed5",
   "metadata": {},
   "outputs": [],
   "source": [
    "import subprocess\n",
    "\n",
    "BASE_DIRECTORY = '/Users/emarberg/examples/test/'\n",
    "\n",
    "def draw_graph(vertices, edges, neato=True):\n",
    "    def prt(w):\n",
    "        return ''.join(map(str, w[:-1])) + ':' + str(w[-1])\n",
    "    s = ['digraph G {']\n",
    "    s += ['    overlap=false;']\n",
    "    s += ['    splines=true;']\n",
    "    s += ['    node [shape=box];']\n",
    "    for x in vertices:\n",
    "       s += ['    \"%s\" [fillcolor=white];' % prt(x)]\n",
    "    for x, y, label in edges:\n",
    "        if x in vertices and y in vertices:\n",
    "            s += ['    \"%s\" -> \"%s\" [color=\"%s\"];' % (prt(x), prt(y), 'red' if label else 'black')]\n",
    "    s += ['}']\n",
    "    s = '\\n'.join(s)\n",
    "    #\n",
    "    filename = 'tmp' + str(len(vertices))\n",
    "    dot_filename = BASE_DIRECTORY + 'dot/' + '%s.dot' % filename\n",
    "    png_filename = BASE_DIRECTORY + 'png/' + '%s.png' % filename\n",
    "    with open(dot_filename, 'w') as f:\n",
    "        f.write(s)\n",
    "    subprocess.run([\"neato\" if neato else \"dot\", \"-Tpng\", dot_filename, \"-o\", png_filename])\n",
    "    subprocess.run([\"open\", png_filename])"
   ]
  },
  {
   "cell_type": "code",
   "execution_count": 207,
   "id": "9f9e41cd",
   "metadata": {},
   "outputs": [],
   "source": [
    "def is_connected(v, e):\n",
    "    if len(v) == 0:\n",
    "        return True\n",
    "    component = {next(iter(v))}\n",
    "    size = len(component)\n",
    "    while True:\n",
    "        component |= {b for (a, b, i) in e if a in component} | {a for (a, b, i) in e if b in component}\n",
    "        if len(component) == size:\n",
    "            break\n",
    "        size = len(component)\n",
    "    return len(component) == len(v)"
   ]
  },
  {
   "cell_type": "code",
   "execution_count": 218,
   "id": "fd0ed589",
   "metadata": {},
   "outputs": [],
   "source": [
    "def digraph_sources(v, e):\n",
    "    ans = set(v)\n",
    "    for a, b, i in e:\n",
    "        if b in ans:\n",
    "            ans.remove(b)\n",
    "    return ans\n",
    "\n",
    "\n",
    "def digraph_sinks(v, e):\n",
    "    ans = set(v)\n",
    "    for a, b, i in e:\n",
    "        if a in ans:\n",
    "            ans.remove(a)\n",
    "    return ans"
   ]
  },
  {
   "cell_type": "code",
   "execution_count": 198,
   "id": "7d2b30a3",
   "metadata": {},
   "outputs": [],
   "source": [
    "from permutations import Permutation, Partition\n",
    "from tests.test_ogroth import read_cplusplus_ogroth\n",
    "\n",
    "def read(*mu):\n",
    "    n = max(mu, default=0) + 2\n",
    "    ans = read_cplusplus_ogroth(mu)\n",
    "    bns = {}\n",
    "    for w, c in ans:\n",
    "        w = tuple(Permutation(*w).inverse().oneline)\n",
    "        while len(w) < n:\n",
    "            w += (len(w) + 1,)\n",
    "        bns[w] = c\n",
    "    return bns"
   ]
  },
  {
   "cell_type": "code",
   "execution_count": 389,
   "id": "ed1c1723",
   "metadata": {},
   "outputs": [],
   "source": [
    "def undirected_chinese_span(w, n=None):\n",
    "    if n is not None and w[-1] != n + 1:\n",
    "        return\n",
    "    for i in range(len(w) - 2):\n",
    "        c, b, a = w[i: i + 3]\n",
    "        if a < b < c:\n",
    "            yield (w[:i] + (b, c, a) + w[i + 3:], w, False)\n",
    "            yield (w[:i] + (c, a, b) + w[i + 3:], w, False)\n",
    "        b, c, a = w[i: i + 3]\n",
    "        if a < b < c:\n",
    "            yield (w[:i] + (c, b, a) + w[i + 3:], w, False)\n",
    "            yield (w[:i] + (c, a, b) + w[i + 3:], w, False)\n",
    "        c, a, b = w[i: i + 3]\n",
    "        if a < b < c:\n",
    "            yield (w[:i] + (c, b, a) + w[i + 3:], w, False)\n",
    "            yield (w[:i] + (b, c, a) + w[i + 3:], w, False)\n",
    "\n",
    "\n",
    "def undirected_chinese_class(w):\n",
    "    ans = set()\n",
    "    add = {w}\n",
    "    while add:\n",
    "        ans |= add\n",
    "        add = {v for (w, v) in undirected_chinese_span(w) if v not in ans}\n",
    "    return ans\n",
    "\n",
    "\n",
    "def chinese_span(w, n):\n",
    "    if w[-1] == n + 1:\n",
    "        for i in range(len(w) - 2):\n",
    "            c, b, a = w[i: i + 3]\n",
    "            if a < b < c and c != n + 1:\n",
    "                yield (w[:i] + (b, c, a) + w[i + 3:], w, False)\n",
    "                yield (w[:i] + (c, a, b) + w[i + 3:], w, False)\n",
    "            # b, c, a = w[i: i + 3]\n",
    "            # if a < b < c and c != n + 1:\n",
    "            #    yield (w[:i] + (c, a, b) + w[i + 3:], w, False)\n",
    "            \n",
    "\n",
    "def chinese_class(w):\n",
    "    ans = set()\n",
    "    add = {w}\n",
    "    while add:\n",
    "        ans |= add\n",
    "        add = {v for (w, v) in chinese_span(w, -1) if v not in ans}\n",
    "    return ans"
   ]
  },
  {
   "cell_type": "code",
   "execution_count": 200,
   "id": "472017ef",
   "metadata": {},
   "outputs": [],
   "source": [
    "def tr(x, a):\n",
    "    return x + (a[x],) #\n",
    "    # return Permutation(*x).code() + (a[x],)\n",
    "\n",
    "def appl(t, a):\n",
    "    x, y, i = t\n",
    "    return (tr(x, a), tr(y, a), x[i] == len(x) or x[i+1] == len(x))"
   ]
  },
  {
   "cell_type": "code",
   "execution_count": 488,
   "id": "1b757f56",
   "metadata": {},
   "outputs": [],
   "source": [
    "def ranked_graph(mu, draw=True):\n",
    "    w =  Permutation.from_involution_shape(*mu)\n",
    "    n = w.rank\n",
    "    u = read(*mu)\n",
    "    u = {x + (() if len(x) == n + 1 else (n + 1,)): u[x] for x in u}\n",
    "    e = {\n",
    "        (x, y, i)\n",
    "        for x in u for y in u for i in range(len(x) - 1)\n",
    "        if x < y and x[:i] + (x[i+1],x[i]) + x[i+2:] == y\n",
    "    }\n",
    "    if draw:\n",
    "        print(w.cycle_repr())\n",
    "        draw_graph({tr(x, u) for x in u}, {appl(t, u) for t in e}, neato=False)\n",
    "    return (u, e)\n",
    "\n",
    "def relation_graph(mu, draw=True):\n",
    "    w =  Permutation.from_involution_shape(*mu)\n",
    "    # h = {x.inverse() for x in w.get_involution_hecke_atoms()}\n",
    "    n = w.rank\n",
    "    u = read(*mu)\n",
    "    u = {x + (() if len(x) == n + 1 else (n + 1,)): u[x] for x in u}\n",
    "    e = {\n",
    "        p\n",
    "        # for x in u for p in undirected_chinese_span(x)\n",
    "        # if Permutation(*p[0]) in h\n",
    "        for x in u for p in chinese_span(x, n)\n",
    "    } | {\n",
    "        (x, y, True) \n",
    "        for x in u for y in u \n",
    "        if x < y and x[-1] == n + 1 and tuple(_ for _ in x if _ != n + 1) == tuple(_ for _ in y if _ != n + 1)\n",
    "    }\n",
    "    if draw:\n",
    "        print(w.cycle_repr())\n",
    "        draw_graph({tr(x, u) for x in u}, {(tr(a, u), tr(b, u), c) for (a, b, c) in e}, neato=False)\n",
    "    return (u, e)"
   ]
  },
  {
   "cell_type": "code",
   "execution_count": 539,
   "id": "10586ad7",
   "metadata": {},
   "outputs": [],
   "source": [
    "def print_edges(v, e):\n",
    "    def represent(x, y):\n",
    "        a = [str(x[i]) if x[i] != y[i] else '-' for i in range(len(x))]\n",
    "        b = [str(y[i]) if x[i] != y[i] else '-' for i in range(len(x))]\n",
    "        return ''.join(a), ''.join(b)\n",
    "    \n",
    "    for x, y, i in e:\n",
    "        a, b = represent(x, y)\n",
    "        print('  ', a)\n",
    "        print('  ', b)\n",
    "        print()\n",
    "\n",
    "def test_edges(n, graph=ranked_graph):\n",
    "    delta = tuple(range(n - 1, 0, -2))\n",
    "    mus = sorted(Partition.subpartitions(delta, strict=True), key=sum)\n",
    "    for i, mu in enumerate(mus):\n",
    "        w = Permutation.from_involution_shape(*mu)\n",
    "        n = w.rank + 1\n",
    "\n",
    "        left = [a for a in range(1, n) if a < w(a)]\n",
    "        right = [a for a in range(1, n) if a > w(a)]\n",
    "        \n",
    "        v, e = graph(mu, False)\n",
    "        b = all(x[i + 1] in right or x[i] in left for (x, y, i) in e)\n",
    "        c = all(\n",
    "            (x, x[:i] + (x[i+1], x[i]) + x[i+2:], i) in e\n",
    "            for x in v\n",
    "            for i in range(len(x) - 1)\n",
    "            if x[i] < x[i + 1] and (x[i] in left or x[i+1] in right)\n",
    "        )\n",
    "        if c:\n",
    "            print('[', i + 1, 'of', len(mus), ']', mu, ':', w, ':', b, c)\n",
    "        assert b\n",
    "        "
   ]
  },
  {
   "cell_type": "code",
   "execution_count": 526,
   "id": "a223e735",
   "metadata": {},
   "outputs": [],
   "source": [
    "def test_connectedness(n, graph=ranked_graph):\n",
    "    delta = tuple(range(n - 1, 0, -2))\n",
    "    mus = sorted(Partition.subpartitions(delta, strict=True), key=sum)\n",
    "    for i, mu in enumerate(mus):\n",
    "        v, e = graph(mu, False)\n",
    "        b = is_connected(v, e)\n",
    "        c = len(digraph_sources(v, e)) == 1\n",
    "        d = len(digraph_sinks(v, e)) == 1\n",
    "        if b:\n",
    "            print('[', i + 1, 'of', len(mus), ']', mu, ':', b, c, d)\n",
    "        #print()\n",
    "        #print('  ', Permutation.from_involution_shape(*mu).cycle_repr())\n",
    "        #print('  ', digraph_sinks(v, e))\n",
    "        #print()\n",
    "        #assert b"
   ]
  },
  {
   "cell_type": "code",
   "execution_count": 494,
   "id": "ba5e14fb",
   "metadata": {},
   "outputs": [],
   "source": [
    "def pad(x, n):\n",
    "    return tuple(x.inverse().oneline) + tuple(range(x.rank + 1, n + 2))\n",
    "    \n",
    "def test_chinese_class(n):\n",
    "    delta = tuple(range(n - 1, 0, -2))\n",
    "    mus = sorted(Partition.subpartitions(delta, strict=True), key=sum)\n",
    "    for i, mu in enumerate(mus):\n",
    "        w = Permutation.from_involution_shape(*mu)\n",
    "        n = max(1, w.rank)\n",
    "        u = read(*mu)\n",
    "        v = {x + (() if len(x) == n + 1 else (n + 1,)): u[x] for x in u}\n",
    "        b = all(x in v for y in v for (x, y, _) in chinese_span(y, n))\n",
    "        c1 = all(pad(x, n) in v for x in w.get_involution_hecke_atoms())\n",
    "        c2 = {x.inverse() for x in w.get_involution_hecke_atoms()} == {Permutation(*x) for x in v if Permutation(*x).rank <= n}\n",
    "        d1 = all(x in v for y in v for (x, y, _) in undirected_chinese_span(y, n))\n",
    "        d2 = all(x in v for y in v for (x, y, _) in undirected_chinese_span(y))\n",
    "        if c2:\n",
    "            print('[', i + 1, 'of', len(mus), ']', mu)\n",
    "            print()\n",
    "            print('  directed ch relations:', b)\n",
    "            print()\n",
    "            print('  contains  invol hecke:', c1)\n",
    "            print('  intersect invol hecke:', c2)\n",
    "            print()\n",
    "            print('  constr ch relations  :', d1)\n",
    "            print('  all    ch relations  :', d2)\n",
    "            print()\n",
    "        assert b and c1"
   ]
  },
  {
   "cell_type": "code",
   "execution_count": null,
   "id": "6e01a965",
   "metadata": {},
   "outputs": [],
   "source": []
  },
  {
   "cell_type": "code",
   "execution_count": 461,
   "id": "f0892b4d",
   "metadata": {},
   "outputs": [],
   "source": [
    "n = 6 \n",
    "delta = tuple(range(n - 1, 0, -2))\n",
    "mus = iter(sorted(Partition.subpartitions(delta, strict=True), key=sum))"
   ]
  },
  {
   "cell_type": "code",
   "execution_count": 542,
   "id": "e134960c",
   "metadata": {
    "scrolled": true
   },
   "outputs": [
    {
     "name": "stdout",
     "output_type": "stream",
     "text": [
      "mu = (3,)\n",
      " w = (1, 4)\n",
      "(1, 4)\n",
      "\n",
      "edges:\n"
     ]
    }
   ],
   "source": [
    "mu = (3,)\n",
    "print('mu =', mu)\n",
    "print(' w =', Permutation.from_involution_shape(*mu).cycle_repr())\n",
    "graph = ranked_graph\n",
    "v, e = graph(mu, True)\n",
    "print()\n",
    "print('edges:')\n",
    "# print_edges(v, e)"
   ]
  },
  {
   "cell_type": "code",
   "execution_count": 541,
   "id": "5fb3dec8",
   "metadata": {},
   "outputs": [
    {
     "name": "stdout",
     "output_type": "stream",
     "text": [
      "[ 1 of 70 ] () : () : True True\n",
      "[ 2 of 70 ] (1,) : 21 : True True\n",
      "[ 3 of 70 ] (2,) : 321 : True True\n",
      "[ 7 of 70 ] (3, 1) : 4321 : True True\n",
      "[ 13 of 70 ] (4, 2) : 54321 : True True\n",
      "[ 29 of 70 ] (5, 3, 1) : 654321 : True True\n",
      "[ 49 of 70 ] (6, 4, 2) : 7654321 : True True\n"
     ]
    },
    {
     "ename": "KeyboardInterrupt",
     "evalue": "",
     "output_type": "error",
     "traceback": [
      "\u001b[0;31m---------------------------------------------------------------------------\u001b[0m",
      "\u001b[0;31mKeyboardInterrupt\u001b[0m                         Traceback (most recent call last)",
      "Input \u001b[0;32mIn [541]\u001b[0m, in \u001b[0;36m<module>\u001b[0;34m\u001b[0m\n\u001b[0;32m----> 1\u001b[0m \u001b[43mtest_edges\u001b[49m\u001b[43m(\u001b[49m\u001b[38;5;241;43m8\u001b[39;49m\u001b[43m,\u001b[49m\u001b[43m \u001b[49m\u001b[43mranked_graph\u001b[49m\u001b[43m)\u001b[49m\n",
      "Input \u001b[0;32mIn [539]\u001b[0m, in \u001b[0;36mtest_edges\u001b[0;34m(n, graph)\u001b[0m\n\u001b[1;32m     20\u001b[0m left \u001b[38;5;241m=\u001b[39m [a \u001b[38;5;28;01mfor\u001b[39;00m a \u001b[38;5;129;01min\u001b[39;00m \u001b[38;5;28mrange\u001b[39m(\u001b[38;5;241m1\u001b[39m, n) \u001b[38;5;28;01mif\u001b[39;00m a \u001b[38;5;241m<\u001b[39m w(a)]\n\u001b[1;32m     21\u001b[0m right \u001b[38;5;241m=\u001b[39m [a \u001b[38;5;28;01mfor\u001b[39;00m a \u001b[38;5;129;01min\u001b[39;00m \u001b[38;5;28mrange\u001b[39m(\u001b[38;5;241m1\u001b[39m, n) \u001b[38;5;28;01mif\u001b[39;00m a \u001b[38;5;241m>\u001b[39m w(a)]\n\u001b[0;32m---> 23\u001b[0m v, e \u001b[38;5;241m=\u001b[39m \u001b[43mgraph\u001b[49m\u001b[43m(\u001b[49m\u001b[43mmu\u001b[49m\u001b[43m,\u001b[49m\u001b[43m \u001b[49m\u001b[38;5;28;43;01mFalse\u001b[39;49;00m\u001b[43m)\u001b[49m\n\u001b[1;32m     24\u001b[0m b \u001b[38;5;241m=\u001b[39m \u001b[38;5;28mall\u001b[39m(x[i \u001b[38;5;241m+\u001b[39m \u001b[38;5;241m1\u001b[39m] \u001b[38;5;129;01min\u001b[39;00m right \u001b[38;5;129;01mor\u001b[39;00m x[i] \u001b[38;5;129;01min\u001b[39;00m left \u001b[38;5;28;01mfor\u001b[39;00m (x, y, i) \u001b[38;5;129;01min\u001b[39;00m e)\n\u001b[1;32m     25\u001b[0m c \u001b[38;5;241m=\u001b[39m \u001b[38;5;28mall\u001b[39m(\n\u001b[1;32m     26\u001b[0m     (x, x[:i] \u001b[38;5;241m+\u001b[39m (x[i\u001b[38;5;241m+\u001b[39m\u001b[38;5;241m1\u001b[39m], x[i]) \u001b[38;5;241m+\u001b[39m x[i\u001b[38;5;241m+\u001b[39m\u001b[38;5;241m2\u001b[39m:], i) \u001b[38;5;129;01min\u001b[39;00m e\n\u001b[1;32m     27\u001b[0m     \u001b[38;5;28;01mfor\u001b[39;00m x \u001b[38;5;129;01min\u001b[39;00m v\n\u001b[1;32m     28\u001b[0m     \u001b[38;5;28;01mfor\u001b[39;00m i \u001b[38;5;129;01min\u001b[39;00m \u001b[38;5;28mrange\u001b[39m(\u001b[38;5;28mlen\u001b[39m(x) \u001b[38;5;241m-\u001b[39m \u001b[38;5;241m1\u001b[39m)\n\u001b[1;32m     29\u001b[0m     \u001b[38;5;28;01mif\u001b[39;00m x[i] \u001b[38;5;241m<\u001b[39m x[i \u001b[38;5;241m+\u001b[39m \u001b[38;5;241m1\u001b[39m] \u001b[38;5;129;01mand\u001b[39;00m (x[i] \u001b[38;5;129;01min\u001b[39;00m left \u001b[38;5;129;01mor\u001b[39;00m x[i\u001b[38;5;241m+\u001b[39m\u001b[38;5;241m1\u001b[39m] \u001b[38;5;129;01min\u001b[39;00m right)\n\u001b[1;32m     30\u001b[0m )\n",
      "Input \u001b[0;32mIn [488]\u001b[0m, in \u001b[0;36mranked_graph\u001b[0;34m(mu, draw)\u001b[0m\n\u001b[1;32m      4\u001b[0m u \u001b[38;5;241m=\u001b[39m read(\u001b[38;5;241m*\u001b[39mmu)\n\u001b[1;32m      5\u001b[0m u \u001b[38;5;241m=\u001b[39m {x \u001b[38;5;241m+\u001b[39m (() \u001b[38;5;28;01mif\u001b[39;00m \u001b[38;5;28mlen\u001b[39m(x) \u001b[38;5;241m==\u001b[39m n \u001b[38;5;241m+\u001b[39m \u001b[38;5;241m1\u001b[39m \u001b[38;5;28;01melse\u001b[39;00m (n \u001b[38;5;241m+\u001b[39m \u001b[38;5;241m1\u001b[39m,)): u[x] \u001b[38;5;28;01mfor\u001b[39;00m x \u001b[38;5;129;01min\u001b[39;00m u}\n\u001b[0;32m----> 6\u001b[0m e \u001b[38;5;241m=\u001b[39m {\n\u001b[1;32m      7\u001b[0m     (x, y, i)\n\u001b[1;32m      8\u001b[0m     \u001b[38;5;28;01mfor\u001b[39;00m x \u001b[38;5;129;01min\u001b[39;00m u \u001b[38;5;28;01mfor\u001b[39;00m y \u001b[38;5;129;01min\u001b[39;00m u \u001b[38;5;28;01mfor\u001b[39;00m i \u001b[38;5;129;01min\u001b[39;00m \u001b[38;5;28mrange\u001b[39m(\u001b[38;5;28mlen\u001b[39m(x) \u001b[38;5;241m-\u001b[39m \u001b[38;5;241m1\u001b[39m)\n\u001b[1;32m      9\u001b[0m     \u001b[38;5;28;01mif\u001b[39;00m x \u001b[38;5;241m<\u001b[39m y \u001b[38;5;129;01mand\u001b[39;00m x[:i] \u001b[38;5;241m+\u001b[39m (x[i\u001b[38;5;241m+\u001b[39m\u001b[38;5;241m1\u001b[39m],x[i]) \u001b[38;5;241m+\u001b[39m x[i\u001b[38;5;241m+\u001b[39m\u001b[38;5;241m2\u001b[39m:] \u001b[38;5;241m==\u001b[39m y\n\u001b[1;32m     10\u001b[0m }\n\u001b[1;32m     11\u001b[0m \u001b[38;5;28;01mif\u001b[39;00m draw:\n\u001b[1;32m     12\u001b[0m     \u001b[38;5;28mprint\u001b[39m(w\u001b[38;5;241m.\u001b[39mcycle_repr())\n",
      "Input \u001b[0;32mIn [488]\u001b[0m, in \u001b[0;36m<setcomp>\u001b[0;34m(.0)\u001b[0m\n\u001b[1;32m      4\u001b[0m u \u001b[38;5;241m=\u001b[39m read(\u001b[38;5;241m*\u001b[39mmu)\n\u001b[1;32m      5\u001b[0m u \u001b[38;5;241m=\u001b[39m {x \u001b[38;5;241m+\u001b[39m (() \u001b[38;5;28;01mif\u001b[39;00m \u001b[38;5;28mlen\u001b[39m(x) \u001b[38;5;241m==\u001b[39m n \u001b[38;5;241m+\u001b[39m \u001b[38;5;241m1\u001b[39m \u001b[38;5;28;01melse\u001b[39;00m (n \u001b[38;5;241m+\u001b[39m \u001b[38;5;241m1\u001b[39m,)): u[x] \u001b[38;5;28;01mfor\u001b[39;00m x \u001b[38;5;129;01min\u001b[39;00m u}\n\u001b[1;32m      6\u001b[0m e \u001b[38;5;241m=\u001b[39m {\n\u001b[1;32m      7\u001b[0m     (x, y, i)\n\u001b[1;32m      8\u001b[0m     \u001b[38;5;28;01mfor\u001b[39;00m x \u001b[38;5;129;01min\u001b[39;00m u \u001b[38;5;28;01mfor\u001b[39;00m y \u001b[38;5;129;01min\u001b[39;00m u \u001b[38;5;28;01mfor\u001b[39;00m i \u001b[38;5;129;01min\u001b[39;00m \u001b[38;5;28mrange\u001b[39m(\u001b[38;5;28mlen\u001b[39m(x) \u001b[38;5;241m-\u001b[39m \u001b[38;5;241m1\u001b[39m)\n\u001b[0;32m----> 9\u001b[0m     \u001b[38;5;28;01mif\u001b[39;00m x \u001b[38;5;241m<\u001b[39m y \u001b[38;5;129;01mand\u001b[39;00m \u001b[43mx\u001b[49m\u001b[43m[\u001b[49m\u001b[43m:\u001b[49m\u001b[43mi\u001b[49m\u001b[43m]\u001b[49m\u001b[43m \u001b[49m\u001b[38;5;241;43m+\u001b[39;49m\u001b[43m \u001b[49m\u001b[43m(\u001b[49m\u001b[43mx\u001b[49m\u001b[43m[\u001b[49m\u001b[43mi\u001b[49m\u001b[38;5;241;43m+\u001b[39;49m\u001b[38;5;241;43m1\u001b[39;49m\u001b[43m]\u001b[49m\u001b[43m,\u001b[49m\u001b[43mx\u001b[49m\u001b[43m[\u001b[49m\u001b[43mi\u001b[49m\u001b[43m]\u001b[49m\u001b[43m)\u001b[49m\u001b[43m \u001b[49m\u001b[38;5;241;43m+\u001b[39;49m\u001b[43m \u001b[49m\u001b[43mx\u001b[49m\u001b[43m[\u001b[49m\u001b[43mi\u001b[49m\u001b[38;5;241;43m+\u001b[39;49m\u001b[38;5;241;43m2\u001b[39;49m\u001b[43m:\u001b[49m\u001b[43m]\u001b[49m \u001b[38;5;241m==\u001b[39m y\n\u001b[1;32m     10\u001b[0m }\n\u001b[1;32m     11\u001b[0m \u001b[38;5;28;01mif\u001b[39;00m draw:\n\u001b[1;32m     12\u001b[0m     \u001b[38;5;28mprint\u001b[39m(w\u001b[38;5;241m.\u001b[39mcycle_repr())\n",
      "\u001b[0;31mKeyboardInterrupt\u001b[0m: "
     ]
    }
   ],
   "source": [
    "test_edges(8, ranked_graph)"
   ]
  },
  {
   "cell_type": "code",
   "execution_count": 515,
   "id": "eb504b3c",
   "metadata": {},
   "outputs": [
    {
     "name": "stdout",
     "output_type": "stream",
     "text": [
      "[ 1 of 70 ] () : True True True\n",
      "[ 2 of 70 ] (1,) : True True True\n",
      "[ 3 of 70 ] (2,) : True False False\n",
      "[ 7 of 70 ] (3, 1) : True False False\n",
      "[ 13 of 70 ] (4, 2) : True False False\n",
      "[ 29 of 70 ] (5, 3, 1) : True False False\n",
      "[ 49 of 70 ] (6, 4, 2) : True False False\n",
      "[ 70 of 70 ] (7, 5, 3, 1) : True False False\n"
     ]
    }
   ],
   "source": [
    "test_connectedness(8, relation_graph)"
   ]
  },
  {
   "cell_type": "code",
   "execution_count": null,
   "id": "9270ce7a",
   "metadata": {},
   "outputs": [],
   "source": [
    "test_chinese_class(7)"
   ]
  },
  {
   "cell_type": "code",
   "execution_count": 332,
   "id": "3d3df6f1",
   "metadata": {},
   "outputs": [],
   "source": [
    "graph = ranked_graph"
   ]
  },
  {
   "cell_type": "code",
   "execution_count": 333,
   "id": "3e7752ca",
   "metadata": {},
   "outputs": [
    {
     "name": "stdout",
     "output_type": "stream",
     "text": [
      "(1, 4)(2, 3)\n"
     ]
    }
   ],
   "source": [
    "relation_graph((3,1));"
   ]
  },
  {
   "cell_type": "code",
   "execution_count": 319,
   "id": "96ef2908",
   "metadata": {},
   "outputs": [
    {
     "name": "stdout",
     "output_type": "stream",
     "text": [
      "(1, 5)(2, 6)(3, 7)(4, 8)\n"
     ]
    }
   ],
   "source": [
    "graph((4,3,2,1,));"
   ]
  },
  {
   "cell_type": "code",
   "execution_count": 297,
   "id": "ae66b66c",
   "metadata": {},
   "outputs": [
    {
     "name": "stdout",
     "output_type": "stream",
     "text": [
      "(1, 5)(2, 4)\n"
     ]
    }
   ],
   "source": [
    "graph((4,2,));"
   ]
  },
  {
   "cell_type": "code",
   "execution_count": null,
   "id": "ea593155",
   "metadata": {},
   "outputs": [],
   "source": []
  },
  {
   "cell_type": "code",
   "execution_count": null,
   "id": "6a131fa1",
   "metadata": {},
   "outputs": [],
   "source": []
  },
  {
   "cell_type": "code",
   "execution_count": null,
   "id": "28876457",
   "metadata": {},
   "outputs": [],
   "source": []
  },
  {
   "cell_type": "code",
   "execution_count": null,
   "id": "d24b5a4d",
   "metadata": {},
   "outputs": [],
   "source": []
  },
  {
   "cell_type": "code",
   "execution_count": null,
   "id": "c5c35da2",
   "metadata": {},
   "outputs": [],
   "source": []
  },
  {
   "cell_type": "code",
   "execution_count": null,
   "id": "f67ae01e",
   "metadata": {},
   "outputs": [],
   "source": []
  },
  {
   "cell_type": "code",
   "execution_count": 133,
   "id": "76c32ae8",
   "metadata": {},
   "outputs": [],
   "source": []
  },
  {
   "cell_type": "code",
   "execution_count": 17,
   "id": "da3765cc",
   "metadata": {},
   "outputs": [],
   "source": [
    "mu = (3,1)\n",
    "u = read(*mu)\n",
    "u = {x: u[x] for x in u}"
   ]
  },
  {
   "cell_type": "code",
   "execution_count": 12,
   "id": "80bd73a6",
   "metadata": {},
   "outputs": [
    {
     "data": {
      "text/plain": [
       "{1, 2, 3, 4, 6}"
      ]
     },
     "execution_count": 12,
     "metadata": {},
     "output_type": "execute_result"
    }
   ],
   "source": [
    "set(u.values())"
   ]
  },
  {
   "cell_type": "code",
   "execution_count": 13,
   "id": "8146001d",
   "metadata": {},
   "outputs": [],
   "source": [
    "e = {\n",
    "    (x, y, i)\n",
    "    for x in u for y in u for i in range(len(x) - 1)\n",
    "    if x < y and x[:i] + (x[i+1],x[i]) + x[i+2:] == y\n",
    "}"
   ]
  },
  {
   "cell_type": "code",
   "execution_count": 14,
   "id": "3975b0bc",
   "metadata": {},
   "outputs": [],
   "source": [
    "m = (mu[0] + 1) // 2\n",
    "\n",
    "for x, y, i in e:\n",
    "    assert m < x[i + 1] <= mu[0] + 1 or x[i] <= m\n",
    "\n",
    "for x in u:\n",
    "    for i in range(len(x) - 1):\n",
    "        if x[i] >= x[i + 1]:\n",
    "            continue\n",
    "        y = x[:i] + (x[i + 1],x[i]) + x[i+2:]\n",
    "        if m < x[i + 1] <= mu[0] + 1 or x[i] <= m:\n",
    "            assert (x, y, i) in e\n"
   ]
  },
  {
   "cell_type": "code",
   "execution_count": 15,
   "id": "7585c670",
   "metadata": {},
   "outputs": [],
   "source": [
    "draw_graph({tr(x, u) for x in u}, {appl(t, u) for t in e}, neato=False)"
   ]
  },
  {
   "cell_type": "code",
   "execution_count": 748,
   "id": "6c77ba8e",
   "metadata": {},
   "outputs": [],
   "source": []
  },
  {
   "cell_type": "code",
   "execution_count": null,
   "id": "83d3d449",
   "metadata": {},
   "outputs": [],
   "source": []
  },
  {
   "cell_type": "code",
   "execution_count": null,
   "id": "72490772",
   "metadata": {},
   "outputs": [],
   "source": []
  },
  {
   "cell_type": "code",
   "execution_count": null,
   "id": "fa319f20",
   "metadata": {},
   "outputs": [],
   "source": []
  },
  {
   "cell_type": "code",
   "execution_count": null,
   "id": "ad8fa8c4",
   "metadata": {},
   "outputs": [],
   "source": []
  },
  {
   "cell_type": "code",
   "execution_count": null,
   "id": "22882c08",
   "metadata": {},
   "outputs": [],
   "source": []
  },
  {
   "cell_type": "code",
   "execution_count": null,
   "id": "c04fdabf",
   "metadata": {},
   "outputs": [],
   "source": []
  },
  {
   "cell_type": "code",
   "execution_count": null,
   "id": "3219875c",
   "metadata": {},
   "outputs": [],
   "source": []
  },
  {
   "cell_type": "code",
   "execution_count": 532,
   "id": "af1b9c93",
   "metadata": {},
   "outputs": [],
   "source": [
    "n=6; \n",
    "delta = tuple(range(n - 1, 0, -2))\n",
    "a = read(*delta)\n",
    "e = {_ for v in a for _ in chinese_span(v, n)}\n",
    "assert all(v in a and w in a for v, w, _ in e)\n",
    "e = {appl(t) for t in e}\n",
    "draw_graph({tr(x) for x in a if a[x] != max(a.values())}, e, neato=False)"
   ]
  },
  {
   "cell_type": "code",
   "execution_count": 266,
   "id": "08c2c7f5",
   "metadata": {},
   "outputs": [],
   "source": [
    "co[n] = set({b: a[b] for b in a if b[-1] == n + 1}.values())"
   ]
  },
  {
   "cell_type": "code",
   "execution_count": 253,
   "id": "2268a615",
   "metadata": {},
   "outputs": [
    {
     "name": "stdout",
     "output_type": "stream",
     "text": [
      "1 [1]\n",
      "2 [2]\n",
      "3 [2, 3]\n",
      "4 [4, 6]\n",
      "5 [4, 6, 9, 10]\n",
      "6 [8, 12, 18, 20]\n",
      "7 [8, 12, 18, 20, 27, 30, 33, 34, 35]\n",
      "8 [16, 24, 36, 40, 54, 60, 66, 68, 70]\n",
      "9 [16, 24, 36, 40, 54, 60, 66, 68, 70, 81, 90, 99, 100, 102, 105, 106, 112, 115, 116, 119, 120, 124, 125, 126]\n"
     ]
    }
   ],
   "source": [
    "for k in sorted(co):\n",
    "    print(k, sorted(co[k]))"
   ]
  },
  {
   "cell_type": "code",
   "execution_count": 227,
   "id": "8221a18e",
   "metadata": {},
   "outputs": [],
   "source": [
    "# from partitions import Partition\n",
    "# mus = sorted(Partition.subpartitions(delta, strict=True), key=sum)\n",
    "# for mu in mus:\n",
    "#    a = read(*mu)\n",
    "#    print(mu)\n",
    "#    print(a)\n",
    "#    print()\n",
    "#    test_chinese_class(a, n)"
   ]
  },
  {
   "cell_type": "code",
   "execution_count": null,
   "id": "3a927a63",
   "metadata": {},
   "outputs": [],
   "source": []
  },
  {
   "cell_type": "code",
   "execution_count": 57,
   "id": "6c5f08d2",
   "metadata": {},
   "outputs": [
    {
     "data": {
      "image/png": "[encoded data removed]",
      "text/plain": [
       "<Figure size 432x288 with 1 Axes>"
      ]
     },
     "metadata": {
      "needs_background": "light"
     },
     "output_type": "display_data"
    }
   ],
   "source": [
    "plt.hist(a.values(), len(set(a.values())));"
   ]
  },
  {
   "cell_type": "markdown",
   "id": "6aa8a95a",
   "metadata": {},
   "source": [
    "Observations:\n",
    "* contains Hecke atoms: all\n",
    "* closed under directed Hecke relations: all\n",
    "* ranked poset is connected: all \n",
    "* ranked poset has unique source: square\n",
    "* ranked poset has unique sink: square, w0, some others\n",
    "* (constrained Hecke & remove n+1) relation graph is connected: w0\n",
    "* ranked edges only move left endpoints right, right endpoints left: all"
   ]
  },
  {
   "cell_type": "code",
   "execution_count": null,
   "id": "d8211a7f",
   "metadata": {},
   "outputs": [],
   "source": []
  }
 ],
 "metadata": {
  "kernelspec": {
   "display_name": "Python 3 (ipykernel)",
   "language": "python",
   "name": "python3"
  },
  "language_info": {
   "codemirror_mode": {
    "name": "ipython",
    "version": 3
   },
   "file_extension": ".py",
   "mimetype": "text/x-python",
   "name": "python",
   "nbconvert_exporter": "python",
   "pygments_lexer": "ipython3",
   "version": "3.9.0"
  }
 },
 "nbformat": 4,
 "nbformat_minor": 5
}
